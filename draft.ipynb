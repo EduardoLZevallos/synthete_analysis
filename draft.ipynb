{
 "cells": [
  {
   "cell_type": "code",
   "execution_count": 4,
   "id": "069cc177-d832-48d0-b8bf-a020b4a8b7c1",
   "metadata": {},
   "outputs": [
    {
     "name": "stdout",
     "output_type": "stream",
     "text": [
      "The autoreload extension is already loaded. To reload it, use:\n",
      "  %reload_ext autoreload\n"
     ]
    }
   ],
   "source": [
    "%load_ext autoreload\n",
    "%autoreload 2"
   ]
  },
  {
   "cell_type": "code",
   "execution_count": 5,
   "id": "5150d1fb-f86b-43da-a0ae-f983e38992d7",
   "metadata": {},
   "outputs": [],
   "source": [
    "from synthete_analysis.constants import CONCENTRATED_IN_OIL, METRICS_FOR_ANALYSIS\n",
    "from synthete_analysis.retrieval import query_imf\n",
    "from synthete_analysis.cleanup import normalize_metric_dict, add_all_years"
   ]
  },
  {
   "cell_type": "code",
   "execution_count": 6,
   "id": "7510a634-b70a-4b89-bfa5-06527679b94f",
   "metadata": {},
   "outputs": [],
   "source": [
    "import requests\n",
    "import numpy as np\n",
    "import polars as pl\n",
    "import polars.selectors as cs\n",
    "from dataclasses import dataclass\n",
    "from typing import Optional\n",
    "from functools import cache"
   ]
  },
  {
   "cell_type": "code",
   "execution_count": 7,
   "id": "7a6e8588-285d-4570-a126-96db12af9d54",
   "metadata": {},
   "outputs": [],
   "source": [
    "all_countries = query_imf(\"https://www.imf.org/external/datamapper/api/v1/countries\")[\n",
    "    \"countries\"\n",
    "]\n",
    "indicators = query_imf(\"https://www.imf.org/external/datamapper/api/v1/indicators\")\n",
    "groups = query_imf(\"https://www.imf.org/external/datamapper/api/v1/groups\")[\"groups\"]"
   ]
  },
  {
   "cell_type": "code",
   "execution_count": 8,
   "id": "3ee028d7-2201-41e0-bc0d-7ec6162f4f3e",
   "metadata": {},
   "outputs": [],
   "source": [
    "# retrieval\n",
    "gdp_per_capita = query_imf(\"https://www.imf.org/external/datamapper/api/v1/NGDPDPC\")[\n",
    "    \"values\"\n",
    "][\"NGDPDPC\"]\n",
    "\n",
    "# cleanup\n",
    "gdp_per_capita_df = pl.DataFrame(normalize_metric_dict(gdp_per_capita))\n",
    "gdp_per_capita_df = add_all_years(gdp_per_capita_df)\n",
    "gdp_per_capita_df = (\n",
    "    gdp_per_capita_df.filter(\n",
    "        (pl.col(\"year\") >= 1990)\n",
    "        & (pl.col(\"year\") <= 2019)\n",
    "        & (pl.col(\"country\").is_in(all_countries.keys()))\n",
    "        & (~pl.col(\"country\").is_in(CONCENTRATED_IN_OIL))\n",
    "    )\n",
    "    .sort(\"year\")\n",
    "    .with_columns(pl.col(\"value\").fill_null(strategy=\"forward\").over(\"country\"))\n",
    ")\n",
    "\n",
    "# analysis\n",
    "average_gdp_per_capita_df = (\n",
    "    gdp_per_capita_df.group_by(pl.col(\"country\"))\n",
    "    .agg(pl.col(\"value\").mean())\n",
    "    .sort(\"value\")\n",
    "    .with_row_index(name=\"index\")\n",
    ")"
   ]
  },
  {
   "cell_type": "code",
   "execution_count": 9,
   "id": "175711af-304c-4748-b9c4-d2c03b0329bf",
   "metadata": {},
   "outputs": [],
   "source": [
    "# retrieval\n",
    "real_gdp_per_capita_growth = query_imf(\n",
    "    \"https://www.imf.org/external/datamapper/api/v1/NGDPRPC_PCH\"\n",
    ")[\"values\"][\"NGDPRPC_PCH\"]\n",
    "\n",
    "# cleanup\n",
    "real_gdp_per_capita_growth_df = pl.DataFrame(\n",
    "    normalize_metric_dict(real_gdp_per_capita_growth)\n",
    ")\n",
    "real_gdp_per_capita_growth_df = add_all_years(real_gdp_per_capita_growth_df)\n",
    "real_gdp_per_capita_growth_df = (\n",
    "    real_gdp_per_capita_growth_df.filter(\n",
    "        (pl.col(\"year\") >= 1990)\n",
    "        & (pl.col(\"year\") <= 2019)\n",
    "        & (pl.col(\"country\").is_in(all_countries.keys()))\n",
    "        & (~pl.col(\"country\").is_in(CONCENTRATED_IN_OIL))\n",
    "    )\n",
    "    .sort(\"year\")\n",
    "    .with_columns(pl.col(\"value\").fill_null(strategy=\"forward\").over(\"country\"))\n",
    ")\n",
    "\n",
    "# analysis\n",
    "average_real_gdp_per_capita_growth_df = (\n",
    "    real_gdp_per_capita_growth_df.group_by(pl.col(\"country\"))\n",
    "    .agg(pl.col(\"value\").mean())\n",
    "    .sort(\"value\")\n",
    "    .with_row_index(name=\"index\")\n",
    ")\n",
    "# countries_missing_too_much_gdp_growth_data = set(real_gdp_per_capita_growth_df.group_by(\"country\").agg(\n",
    "#     pl.col(\"value\").is_null().sum().alias(\"null_count\")\n",
    "# ).sort(\"null_count\", descending=True).filter(pl.col(\"null_count\") > 10)['country'].to_list())"
   ]
  },
  {
   "cell_type": "code",
   "execution_count": 10,
   "id": "33cbedff-a580-47fa-a16d-8d38429af2f1",
   "metadata": {},
   "outputs": [],
   "source": [
    "# missing_too_much_gdp_data = set(gdp_per_capita_df.group_by(\"country\").agg(\n",
    "#     pl.col(\"value\").is_null().sum().alias(\"null_count\")\n",
    "# ).sort(\"null_count\", descending=True).filter(pl.col(\"null_count\") > 10)['country'].to_list())\n",
    "# # missing over 1/3 of the data points\n",
    "# \"\"\"\n",
    "# at the time of this analysis  https://data.imf.org/en/Datasets/WEO/Changes-to-the-Database\n",
    "# For Montenegro, historical data prior to 2023 for population and GDP per capita are excluded from publication pending the final release of population estimates from the 2023 Census of Population, Households, and Dwellings.\n",
    "# \"\"\""
   ]
  },
  {
   "cell_type": "code",
   "execution_count": null,
   "id": "f3e7ff11-7cfa-45ec-b50e-dea91bfa112f",
   "metadata": {},
   "outputs": [],
   "source": []
  },
  {
   "cell_type": "markdown",
   "id": "a5478aca-4048-4757-9021-139dbabc827f",
   "metadata": {},
   "source": [
    "# data cleanup / validation"
   ]
  },
  {
   "cell_type": "code",
   "execution_count": 21,
   "id": "2e58ae48-b492-4744-8e80-2fa71882fa0b",
   "metadata": {},
   "outputs": [
    {
     "data": {
      "text/html": [
       "<div><style>\n",
       ".dataframe > thead > tr,\n",
       ".dataframe > tbody > tr {\n",
       "  text-align: right;\n",
       "  white-space: pre-wrap;\n",
       "}\n",
       "</style>\n",
       "<small>shape: (1, 3)</small><table border=\"1\" class=\"dataframe\"><thead><tr><th>country</th><th>year</th><th>value</th></tr><tr><td>u32</td><td>u32</td><td>u32</td></tr></thead><tbody><tr><td>0</td><td>0</td><td>291</td></tr></tbody></table></div>"
      ],
      "text/plain": [
       "shape: (1, 3)\n",
       "┌─────────┬──────┬───────┐\n",
       "│ country ┆ year ┆ value │\n",
       "│ ---     ┆ ---  ┆ ---   │\n",
       "│ u32     ┆ u32  ┆ u32   │\n",
       "╞═════════╪══════╪═══════╡\n",
       "│ 0       ┆ 0    ┆ 291   │\n",
       "└─────────┴──────┴───────┘"
      ]
     },
     "execution_count": 21,
     "metadata": {},
     "output_type": "execute_result"
    }
   ],
   "source": [
    "gdp_per_capita_df.null_count()"
   ]
  },
  {
   "cell_type": "code",
   "execution_count": 22,
   "id": "a98c4f51-feb3-415e-a3d7-a8a49c78538f",
   "metadata": {},
   "outputs": [
    {
     "data": {
      "text/html": [
       "<div><style>\n",
       ".dataframe > thead > tr,\n",
       ".dataframe > tbody > tr {\n",
       "  text-align: right;\n",
       "  white-space: pre-wrap;\n",
       "}\n",
       "</style>\n",
       "<small>shape: (39, 2)</small><table border=\"1\" class=\"dataframe\"><thead><tr><th>country</th><th>null_count</th></tr><tr><td>str</td><td>u32</td></tr></thead><tbody><tr><td>&quot;MNE&quot;</td><td>30</td></tr><tr><td>&quot;SOM&quot;</td><td>22</td></tr><tr><td>&quot;SSD&quot;</td><td>21</td></tr><tr><td>&quot;AND&quot;</td><td>20</td></tr><tr><td>&quot;SMR&quot;</td><td>14</td></tr><tr><td>&hellip;</td><td>&hellip;</td></tr><tr><td>&quot;HRV&quot;</td><td>2</td></tr><tr><td>&quot;ARM&quot;</td><td>2</td></tr><tr><td>&quot;UZB&quot;</td><td>2</td></tr><tr><td>&quot;ERI&quot;</td><td>2</td></tr><tr><td>&quot;MDA&quot;</td><td>2</td></tr></tbody></table></div>"
      ],
      "text/plain": [
       "shape: (39, 2)\n",
       "┌─────────┬────────────┐\n",
       "│ country ┆ null_count │\n",
       "│ ---     ┆ ---        │\n",
       "│ str     ┆ u32        │\n",
       "╞═════════╪════════════╡\n",
       "│ MNE     ┆ 30         │\n",
       "│ SOM     ┆ 22         │\n",
       "│ SSD     ┆ 21         │\n",
       "│ AND     ┆ 20         │\n",
       "│ SMR     ┆ 14         │\n",
       "│ …       ┆ …          │\n",
       "│ HRV     ┆ 2          │\n",
       "│ ARM     ┆ 2          │\n",
       "│ UZB     ┆ 2          │\n",
       "│ ERI     ┆ 2          │\n",
       "│ MDA     ┆ 2          │\n",
       "└─────────┴────────────┘"
      ]
     },
     "execution_count": 22,
     "metadata": {},
     "output_type": "execute_result"
    }
   ],
   "source": [
    "gdp_per_capita_df.group_by(\"country\").agg(\n",
    "    pl.col(\"value\").is_null().sum().alias(\"null_count\")\n",
    ").filter(pl.col(\"null_count\") > 1).sort(by=\"null_count\", descending=True)"
   ]
  },
  {
   "cell_type": "markdown",
   "id": "55caa892-fd1a-4500-aae1-90a9ed4d184b",
   "metadata": {},
   "source": [
    "# By filtering to 1990 to 2019 null count drops by 1/3"
   ]
  },
  {
   "cell_type": "code",
   "execution_count": 23,
   "id": "93f53714-01bb-4c13-9816-90c6c57cacf1",
   "metadata": {},
   "outputs": [
    {
     "data": {
      "text/html": [
       "<div><style>\n",
       ".dataframe > thead > tr,\n",
       ".dataframe > tbody > tr {\n",
       "  text-align: right;\n",
       "  white-space: pre-wrap;\n",
       "}\n",
       "</style>\n",
       "<small>shape: (1, 3)</small><table border=\"1\" class=\"dataframe\"><thead><tr><th>country</th><th>year</th><th>value</th></tr><tr><td>u32</td><td>u32</td><td>u32</td></tr></thead><tbody><tr><td>0</td><td>0</td><td>291</td></tr></tbody></table></div>"
      ],
      "text/plain": [
       "shape: (1, 3)\n",
       "┌─────────┬──────┬───────┐\n",
       "│ country ┆ year ┆ value │\n",
       "│ ---     ┆ ---  ┆ ---   │\n",
       "│ u32     ┆ u32  ┆ u32   │\n",
       "╞═════════╪══════╪═══════╡\n",
       "│ 0       ┆ 0    ┆ 291   │\n",
       "└─────────┴──────┴───────┘"
      ]
     },
     "execution_count": 23,
     "metadata": {},
     "output_type": "execute_result"
    }
   ],
   "source": [
    "gdp_per_capita_df.filter(\n",
    "    (pl.col(\"year\") >= 1990) & (pl.col(\"year\") <= 2019)\n",
    ").null_count()"
   ]
  },
  {
   "cell_type": "code",
   "execution_count": 24,
   "id": "6f67d0af-3efa-455c-9616-40eef2d9e887",
   "metadata": {},
   "outputs": [],
   "source": [
    "gdp_per_capita_df = gdp_per_capita_df.filter(\n",
    "    (pl.col(\"year\") >= 1990) & (pl.col(\"year\") <= 2019)\n",
    ")"
   ]
  },
  {
   "cell_type": "markdown",
   "id": "accafda8-ab6e-49af-9560-47930232fdcf",
   "metadata": {},
   "source": [
    "# remove groups and only keep countries"
   ]
  },
  {
   "cell_type": "code",
   "execution_count": 25,
   "id": "b7ed11cd-4f73-4d30-b7b0-4331f4befe1a",
   "metadata": {},
   "outputs": [],
   "source": [
    "gdp_per_capita_df = gdp_per_capita_df.filter(\n",
    "    pl.col(\"country\").is_in(all_countries.keys())\n",
    ")"
   ]
  },
  {
   "cell_type": "markdown",
   "id": "327ed440-9e62-4934-adcb-949d89081bf9",
   "metadata": {},
   "source": [
    "# as part of the analysis recommends removing concentrated in oil countries"
   ]
  },
  {
   "cell_type": "code",
   "execution_count": 26,
   "id": "cd17c5c2-3444-43de-83f3-151ee6128213",
   "metadata": {},
   "outputs": [],
   "source": [
    "gdp_per_capita_df = gdp_per_capita_df.filter(\n",
    "    ~pl.col(\"country\").is_in(CONCENTRATED_IN_OIL)\n",
    ")"
   ]
  },
  {
   "cell_type": "markdown",
   "id": "67dce70b-3aaf-49d5-9359-2bda4a26e260",
   "metadata": {},
   "source": [
    "# using fill forward for null values"
   ]
  },
  {
   "cell_type": "code",
   "execution_count": 27,
   "id": "ba545e6a-5362-4c05-98f8-4488d36ccfaa",
   "metadata": {
    "scrolled": true
   },
   "outputs": [],
   "source": [
    "gdp_per_capita_df = gdp_per_capita_df.sort(\"year\").with_columns(\n",
    "    pl.col(\"value\").fill_null(strategy=\"forward\").over(\"country\")\n",
    ")"
   ]
  },
  {
   "cell_type": "code",
   "execution_count": 28,
   "id": "ea3d9b78-a1f4-4d5d-8473-0e1ab7d94c79",
   "metadata": {},
   "outputs": [
    {
     "data": {
      "text/html": [
       "<div><style>\n",
       ".dataframe > thead > tr,\n",
       ".dataframe > tbody > tr {\n",
       "  text-align: right;\n",
       "  white-space: pre-wrap;\n",
       "}\n",
       "</style>\n",
       "<small>shape: (1, 3)</small><table border=\"1\" class=\"dataframe\"><thead><tr><th>country</th><th>year</th><th>value</th></tr><tr><td>u32</td><td>u32</td><td>u32</td></tr></thead><tbody><tr><td>0</td><td>0</td><td>291</td></tr></tbody></table></div>"
      ],
      "text/plain": [
       "shape: (1, 3)\n",
       "┌─────────┬──────┬───────┐\n",
       "│ country ┆ year ┆ value │\n",
       "│ ---     ┆ ---  ┆ ---   │\n",
       "│ u32     ┆ u32  ┆ u32   │\n",
       "╞═════════╪══════╪═══════╡\n",
       "│ 0       ┆ 0    ┆ 291   │\n",
       "└─────────┴──────┴───────┘"
      ]
     },
     "execution_count": 28,
     "metadata": {},
     "output_type": "execute_result"
    }
   ],
   "source": [
    "gdp_per_capita_df.null_count()"
   ]
  },
  {
   "cell_type": "code",
   "execution_count": 29,
   "id": "9e236ed8-783e-4b39-b52d-4bc3d21a4271",
   "metadata": {},
   "outputs": [
    {
     "data": {
      "text/html": [
       "<div><style>\n",
       ".dataframe > thead > tr,\n",
       ".dataframe > tbody > tr {\n",
       "  text-align: right;\n",
       "  white-space: pre-wrap;\n",
       "}\n",
       "</style>\n",
       "<small>shape: (39, 2)</small><table border=\"1\" class=\"dataframe\"><thead><tr><th>country</th><th>null_count</th></tr><tr><td>str</td><td>u32</td></tr></thead><tbody><tr><td>&quot;MNE&quot;</td><td>30</td></tr><tr><td>&quot;SOM&quot;</td><td>22</td></tr><tr><td>&quot;SSD&quot;</td><td>21</td></tr><tr><td>&quot;AND&quot;</td><td>20</td></tr><tr><td>&quot;SMR&quot;</td><td>14</td></tr><tr><td>&hellip;</td><td>&hellip;</td></tr><tr><td>&quot;TJK&quot;</td><td>2</td></tr><tr><td>&quot;ARM&quot;</td><td>2</td></tr><tr><td>&quot;MDA&quot;</td><td>2</td></tr><tr><td>&quot;LVA&quot;</td><td>2</td></tr><tr><td>&quot;UKR&quot;</td><td>2</td></tr></tbody></table></div>"
      ],
      "text/plain": [
       "shape: (39, 2)\n",
       "┌─────────┬────────────┐\n",
       "│ country ┆ null_count │\n",
       "│ ---     ┆ ---        │\n",
       "│ str     ┆ u32        │\n",
       "╞═════════╪════════════╡\n",
       "│ MNE     ┆ 30         │\n",
       "│ SOM     ┆ 22         │\n",
       "│ SSD     ┆ 21         │\n",
       "│ AND     ┆ 20         │\n",
       "│ SMR     ┆ 14         │\n",
       "│ …       ┆ …          │\n",
       "│ TJK     ┆ 2          │\n",
       "│ ARM     ┆ 2          │\n",
       "│ MDA     ┆ 2          │\n",
       "│ LVA     ┆ 2          │\n",
       "│ UKR     ┆ 2          │\n",
       "└─────────┴────────────┘"
      ]
     },
     "execution_count": 29,
     "metadata": {},
     "output_type": "execute_result"
    }
   ],
   "source": [
    "gdp_per_capita_df.group_by(\"country\").agg(\n",
    "    pl.col(\"value\").is_null().sum().alias(\"null_count\")\n",
    ").filter(pl.col(\"null_count\") > 1).sort(by=\"null_count\", descending=True)"
   ]
  },
  {
   "cell_type": "markdown",
   "id": "ec41d01d-d4ce-4e6a-969f-f10f3a9c55a6",
   "metadata": {},
   "source": [
    "# countries missing too much data"
   ]
  },
  {
   "cell_type": "code",
   "execution_count": 30,
   "id": "a6dcbfe3-1354-4898-9238-019f15e1e707",
   "metadata": {},
   "outputs": [],
   "source": [
    "# gdp_per_capita_df = gdp_per_capita_df.filter(~pl.col(\"country\").is_in(missing_too_much_data))"
   ]
  },
  {
   "cell_type": "code",
   "execution_count": 31,
   "id": "85a9b356-f100-4298-90c8-c0fdc6c80888",
   "metadata": {},
   "outputs": [
    {
     "data": {
      "text/html": [
       "<div><style>\n",
       ".dataframe > thead > tr,\n",
       ".dataframe > tbody > tr {\n",
       "  text-align: right;\n",
       "  white-space: pre-wrap;\n",
       "}\n",
       "</style>\n",
       "<small>shape: (1, 3)</small><table border=\"1\" class=\"dataframe\"><thead><tr><th>country</th><th>year</th><th>value</th></tr><tr><td>u32</td><td>u32</td><td>u32</td></tr></thead><tbody><tr><td>0</td><td>0</td><td>291</td></tr></tbody></table></div>"
      ],
      "text/plain": [
       "shape: (1, 3)\n",
       "┌─────────┬──────┬───────┐\n",
       "│ country ┆ year ┆ value │\n",
       "│ ---     ┆ ---  ┆ ---   │\n",
       "│ u32     ┆ u32  ┆ u32   │\n",
       "╞═════════╪══════╪═══════╡\n",
       "│ 0       ┆ 0    ┆ 291   │\n",
       "└─────────┴──────┴───────┘"
      ]
     },
     "execution_count": 31,
     "metadata": {},
     "output_type": "execute_result"
    }
   ],
   "source": [
    "gdp_per_capita_df.null_count()"
   ]
  },
  {
   "cell_type": "markdown",
   "id": "be917c62-d727-47c2-81d6-abad24bb4c83",
   "metadata": {},
   "source": [
    "# how will remaining nulls be handled?"
   ]
  },
  {
   "cell_type": "code",
   "execution_count": 34,
   "id": "b13f82d0-a8a2-434d-b3e2-012c07b7988a",
   "metadata": {},
   "outputs": [],
   "source": [
    "real_gdp_per_capita_growth = query_imf(\n",
    "    \"https://www.imf.org/external/datamapper/api/v1/NGDPRPC_PCH\"\n",
    ")[\"values\"][\"NGDPRPC_PCH\"]\n",
    "real_gdp_per_capita_growth_df = pl.DataFrame(\n",
    "    normalize_metric_dict(real_gdp_per_capita_growth)\n",
    ")"
   ]
  },
  {
   "cell_type": "code",
   "execution_count": 35,
   "id": "995ffb5b-b888-427b-8942-6e4bbc5663ce",
   "metadata": {},
   "outputs": [
    {
     "data": {
      "text/html": [
       "<div><style>\n",
       ".dataframe > thead > tr,\n",
       ".dataframe > tbody > tr {\n",
       "  text-align: right;\n",
       "  white-space: pre-wrap;\n",
       "}\n",
       "</style>\n",
       "<small>shape: (1_533, 3)</small><table border=\"1\" class=\"dataframe\"><thead><tr><th>country</th><th>year</th><th>value</th></tr><tr><td>str</td><td>i64</td><td>f64</td></tr></thead><tbody><tr><td>&quot;AGO&quot;</td><td>2004</td><td>7.580882</td></tr><tr><td>&quot;AGO&quot;</td><td>2005</td><td>10.160323</td></tr><tr><td>&quot;AGO&quot;</td><td>2006</td><td>7.893987</td></tr><tr><td>&quot;AGO&quot;</td><td>2007</td><td>8.961208</td></tr><tr><td>&quot;AGO&quot;</td><td>2008</td><td>6.796743</td></tr><tr><td>&hellip;</td><td>&hellip;</td><td>&hellip;</td></tr><tr><td>&quot;ZWE&quot;</td><td>2022</td><td>4.012554</td></tr><tr><td>&quot;ZWE&quot;</td><td>2023</td><td>2.832781</td></tr><tr><td>&quot;ZWE&quot;</td><td>2024</td><td>-0.18579</td></tr><tr><td>&quot;ZWE&quot;</td><td>2025</td><td>3.777606</td></tr><tr><td>&quot;ZWE&quot;</td><td>2026</td><td>2.464089</td></tr></tbody></table></div>"
      ],
      "text/plain": [
       "shape: (1_533, 3)\n",
       "┌─────────┬──────┬───────────┐\n",
       "│ country ┆ year ┆ value     │\n",
       "│ ---     ┆ ---  ┆ ---       │\n",
       "│ str     ┆ i64  ┆ f64       │\n",
       "╞═════════╪══════╪═══════════╡\n",
       "│ AGO     ┆ 2004 ┆ 7.580882  │\n",
       "│ AGO     ┆ 2005 ┆ 10.160323 │\n",
       "│ AGO     ┆ 2006 ┆ 7.893987  │\n",
       "│ AGO     ┆ 2007 ┆ 8.961208  │\n",
       "│ AGO     ┆ 2008 ┆ 6.796743  │\n",
       "│ …       ┆ …    ┆ …         │\n",
       "│ ZWE     ┆ 2022 ┆ 4.012554  │\n",
       "│ ZWE     ┆ 2023 ┆ 2.832781  │\n",
       "│ ZWE     ┆ 2024 ┆ -0.18579  │\n",
       "│ ZWE     ┆ 2025 ┆ 3.777606  │\n",
       "│ ZWE     ┆ 2026 ┆ 2.464089  │\n",
       "└─────────┴──────┴───────────┘"
      ]
     },
     "execution_count": 35,
     "metadata": {},
     "output_type": "execute_result"
    }
   ],
   "source": [
    "real_gdp_per_capita_growth_df"
   ]
  },
  {
   "cell_type": "code",
   "execution_count": null,
   "id": "6abd4333-8c65-4352-8b94-688695678b54",
   "metadata": {},
   "outputs": [],
   "source": []
  },
  {
   "cell_type": "code",
   "execution_count": 37,
   "id": "9af09e92-403d-430a-ab7c-3ff0f0340ef3",
   "metadata": {},
   "outputs": [
    {
     "data": {
      "text/html": [
       "<div><style>\n",
       ".dataframe > thead > tr,\n",
       ".dataframe > tbody > tr {\n",
       "  text-align: right;\n",
       "  white-space: pre-wrap;\n",
       "}\n",
       "</style>\n",
       "<small>shape: (1_533, 3)</small><table border=\"1\" class=\"dataframe\"><thead><tr><th>country</th><th>year</th><th>value</th></tr><tr><td>str</td><td>i64</td><td>f64</td></tr></thead><tbody><tr><td>&quot;AGO&quot;</td><td>2004</td><td>7.580882</td></tr><tr><td>&quot;AGO&quot;</td><td>2005</td><td>10.160323</td></tr><tr><td>&quot;AGO&quot;</td><td>2006</td><td>7.893987</td></tr><tr><td>&quot;AGO&quot;</td><td>2007</td><td>8.961208</td></tr><tr><td>&quot;AGO&quot;</td><td>2008</td><td>6.796743</td></tr><tr><td>&hellip;</td><td>&hellip;</td><td>&hellip;</td></tr><tr><td>&quot;ZWE&quot;</td><td>2022</td><td>4.012554</td></tr><tr><td>&quot;ZWE&quot;</td><td>2023</td><td>2.832781</td></tr><tr><td>&quot;ZWE&quot;</td><td>2024</td><td>-0.18579</td></tr><tr><td>&quot;ZWE&quot;</td><td>2025</td><td>3.777606</td></tr><tr><td>&quot;ZWE&quot;</td><td>2026</td><td>2.464089</td></tr></tbody></table></div>"
      ],
      "text/plain": [
       "shape: (1_533, 3)\n",
       "┌─────────┬──────┬───────────┐\n",
       "│ country ┆ year ┆ value     │\n",
       "│ ---     ┆ ---  ┆ ---       │\n",
       "│ str     ┆ i64  ┆ f64       │\n",
       "╞═════════╪══════╪═══════════╡\n",
       "│ AGO     ┆ 2004 ┆ 7.580882  │\n",
       "│ AGO     ┆ 2005 ┆ 10.160323 │\n",
       "│ AGO     ┆ 2006 ┆ 7.893987  │\n",
       "│ AGO     ┆ 2007 ┆ 8.961208  │\n",
       "│ AGO     ┆ 2008 ┆ 6.796743  │\n",
       "│ …       ┆ …    ┆ …         │\n",
       "│ ZWE     ┆ 2022 ┆ 4.012554  │\n",
       "│ ZWE     ┆ 2023 ┆ 2.832781  │\n",
       "│ ZWE     ┆ 2024 ┆ -0.18579  │\n",
       "│ ZWE     ┆ 2025 ┆ 3.777606  │\n",
       "│ ZWE     ┆ 2026 ┆ 2.464089  │\n",
       "└─────────┴──────┴───────────┘"
      ]
     },
     "execution_count": 37,
     "metadata": {},
     "output_type": "execute_result"
    }
   ],
   "source": [
    "real_gdp_per_capita_growth_df"
   ]
  },
  {
   "cell_type": "markdown",
   "id": "d5db2bf3-7d22-4649-9fc2-9a63ba1702d1",
   "metadata": {},
   "source": [
    "Summary of the Steps as an Algorithm:\n",
    "\n",
    "    Calculate each country's average GDP per capita (1990-2019).\n",
    "\n",
    "    For each country:\n",
    "\n",
    "        Find 20 GDP neighbors above, 20 GDP neighbors below.\n",
    "\n",
    "        From each side, select 5 highest-growth countries (1990-2019 real GDP per capita growth).\n",
    "\n",
    "        Drop the highest-growth country from both sides to reduce outliers.\n",
    "\n",
    "        Remaining 8 countries = synthete peers.\n",
    "\n",
    "    Compute for these peers:\n",
    "\n",
    "        Average primary balance → Synthete Central Value.\n",
    "\n",
    "        2nd highest primary balance → Upper Band.\n",
    "\n",
    "        2nd lowest primary balance → Lower Band.\n",
    "\n",
    "    Repeat globally for all countries.\n",
    "\n",
    "    Aggregate the synthete bands across GDP per capita levels.\n",
    "\n",
    "This process is detailed explicitly in:\n",
    "\n",
    "    Section V (i) “Synthete construction”\n",
    "\n",
    "Further detailed in the Jamaica example and global aggregation\n",
    "."
   ]
  },
  {
   "cell_type": "code",
   "execution_count": 39,
   "id": "6de9e451-3b9c-4293-b399-ebf39d34e660",
   "metadata": {},
   "outputs": [
    {
     "ename": "NameError",
     "evalue": "name 'sorted_gdp' is not defined",
     "output_type": "error",
     "traceback": [
      "\u001b[31m---------------------------------------------------------------------------\u001b[39m",
      "\u001b[31mNameError\u001b[39m                                 Traceback (most recent call last)",
      "\u001b[36mCell\u001b[39m\u001b[36m \u001b[39m\u001b[32mIn[39]\u001b[39m\u001b[32m, line 1\u001b[39m\n\u001b[32m----> \u001b[39m\u001b[32m1\u001b[39m target_row = \u001b[43msorted_gdp\u001b[49m.filter(pl.col(\u001b[33m\"\u001b[39m\u001b[33mcountry\u001b[39m\u001b[33m\"\u001b[39m) == \u001b[33m\"\u001b[39m\u001b[33mUSA\u001b[39m\u001b[33m\"\u001b[39m)\n\u001b[32m      2\u001b[39m target_index = target_row.select(\u001b[33m\"\u001b[39m\u001b[33mindex\u001b[39m\u001b[33m\"\u001b[39m).item()\n\u001b[32m      3\u001b[39m lower_neighbors = sorted_gdp.filter((pl.col(\u001b[33m\"\u001b[39m\u001b[33mindex\u001b[39m\u001b[33m\"\u001b[39m) < target_index)).tail(\u001b[32m20\u001b[39m)\n",
      "\u001b[31mNameError\u001b[39m: name 'sorted_gdp' is not defined"
     ]
    }
   ],
   "source": [
    "target_row = sorted_gdp.filter(pl.col(\"country\") == \"USA\")\n",
    "target_index = target_row.select(\"index\").item()\n",
    "lower_neighbors = sorted_gdp.filter((pl.col(\"index\") < target_index)).tail(20)\n",
    "upper_neighbors = sorted_gdp.filter((pl.col(\"index\") > target_index)).head(20)\n",
    "\n",
    "# missing over 1/3 of the data points"
   ]
  },
  {
   "cell_type": "code",
   "execution_count": null,
   "id": "c3a03ee9-955f-4995-b7ff-af86f912103e",
   "metadata": {},
   "outputs": [],
   "source": [
    "import polars as pl\n",
    "\n",
    "# Example DataFrames\n",
    "gdp_df = pl.DataFrame(\n",
    "    {\n",
    "        \"country\": [\n",
    "            \"GIN\",\n",
    "            \"BFA\",\n",
    "            \"SYC\",\n",
    "            \"AUS\",\n",
    "            \"SVN\",\n",
    "            \"LUX\",\n",
    "            \"LSO\",\n",
    "            \"MEX\",\n",
    "            \"KGZ\",\n",
    "            \"ITA\",\n",
    "        ],\n",
    "        \"value\": [\n",
    "            630.88,\n",
    "            482.55,\n",
    "            10565.74,\n",
    "            37592.28,\n",
    "            17652.11,\n",
    "            79613.13,\n",
    "            817.79,\n",
    "            7950.16,\n",
    "            705.17,\n",
    "            28729.07,\n",
    "        ],\n",
    "    }\n",
    ")\n",
    "\n",
    "growth_df = pl.DataFrame(\n",
    "    {\n",
    "        \"country\": [\n",
    "            \"GIN\",\n",
    "            \"BFA\",\n",
    "            \"SYC\",\n",
    "            \"AUS\",\n",
    "            \"SVN\",\n",
    "            \"LUX\",\n",
    "            \"LSO\",\n",
    "            \"MEX\",\n",
    "            \"KGZ\",\n",
    "            \"ITA\",\n",
    "        ],\n",
    "        \"growth\": [2.1, 3.0, 4.5, 1.8, 2.9, 1.5, 2.3, 2.7, 3.5, 1.9],\n",
    "    }\n",
    ")\n",
    "\n",
    "# Sort GDP per capita and assign index\n",
    "sorted_gdp = gdp_df.sort(\"value\").with_row_count(name=\"index\")\n",
    "\n",
    "\n",
    "# Function to get synthete peers for a country\n",
    "def get_synthete_peers(target_country):\n",
    "    target_row = sorted_gdp.filter(pl.col(\"country\") == target_country)\n",
    "    if target_row.is_empty():\n",
    "        return []\n",
    "\n",
    "    target_index = target_row.select(\"index\").item()\n",
    "\n",
    "    # Get 20 below and 20 above (handling edge cases with slice)\n",
    "    lower_neighbors = sorted_gdp.filter((pl.col(\"index\") < target_index)).tail(20)\n",
    "    upper_neighbors = sorted_gdp.filter((pl.col(\"index\") > target_index)).head(20)\n",
    "\n",
    "    # Join with growth data\n",
    "    lower_joined = lower_neighbors.join(growth_df, on=\"country\")\n",
    "    upper_joined = upper_neighbors.join(growth_df, on=\"country\")\n",
    "\n",
    "    # Select top 5 by growth, drop the top 1\n",
    "    lower_best = lower_joined.sort(\"growth\", descending=True).slice(\n",
    "        1, 4\n",
    "    )  # 5-1 = 4 remaining\n",
    "    upper_best = upper_joined.sort(\"growth\", descending=True).slice(1, 4)\n",
    "\n",
    "    synthete_peers = (\n",
    "        lower_best.select(\"country\").to_series().to_list()\n",
    "        + upper_best.select(\"country\").to_series().to_list()\n",
    "    )\n",
    "    return synthete_peers\n",
    "\n",
    "\n",
    "# Example: Get synthete peers for \"SVN\"\n",
    "peers = get_synthete_peers(\"SVN\")\n",
    "print(peers)"
   ]
  },
  {
   "cell_type": "code",
   "execution_count": null,
   "id": "d35f835e-b552-4a7a-b190-16dbd70f2105",
   "metadata": {},
   "outputs": [],
   "source": []
  },
  {
   "cell_type": "code",
   "execution_count": null,
   "id": "c5ce3fbb-06fd-4c07-a5b4-f79ed53fce50",
   "metadata": {},
   "outputs": [],
   "source": []
  },
  {
   "cell_type": "code",
   "execution_count": null,
   "id": "bc69f3fd-0130-4a8b-ab67-ea0e35241fab",
   "metadata": {},
   "outputs": [],
   "source": []
  },
  {
   "cell_type": "code",
   "execution_count": null,
   "id": "4ad97840-cbe7-4f46-8fbd-c5439e4c34be",
   "metadata": {},
   "outputs": [],
   "source": []
  },
  {
   "cell_type": "code",
   "execution_count": null,
   "id": "e32fc7c3-fad1-4746-bcb3-bb29da85838b",
   "metadata": {},
   "outputs": [],
   "source": []
  }
 ],
 "metadata": {
  "kernelspec": {
   "display_name": "Python 3 (ipykernel)",
   "language": "python",
   "name": "python3"
  },
  "language_info": {
   "codemirror_mode": {
    "name": "ipython",
    "version": 3
   },
   "file_extension": ".py",
   "mimetype": "text/x-python",
   "name": "python",
   "nbconvert_exporter": "python",
   "pygments_lexer": "ipython3",
   "version": "3.12.3"
  }
 },
 "nbformat": 4,
 "nbformat_minor": 5
}
